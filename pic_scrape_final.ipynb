{
 "cells": [
  {
   "attachments": {},
   "cell_type": "markdown",
   "metadata": {},
   "source": [
    "## Chore App"
   ]
  },
  {
   "attachments": {},
   "cell_type": "markdown",
   "metadata": {},
   "source": [
    "##### Upload Libraries"
   ]
  },
  {
   "cell_type": "code",
   "execution_count": 3,
   "metadata": {},
   "outputs": [],
   "source": [
    "import argparse\n",
    "import json\n",
    "import os\n",
    "import time\n",
    "\n",
    "import requests\n",
    "import tqdm\n",
    "from pexels_api import API\n",
    "import numpy as np\n",
    "import os\n",
    "from dotenv import load_dotenv\n",
    "\n",
    "import tensorflow as tf\n",
    "from tensorflow import keras\n",
    "from keras.constraints import maxnorm\n",
    "from keras.utils import np_utils\n",
    "\n",
    "from PIL import Image\n",
    "import pillow_heif"
   ]
  },
  {
   "attachments": {},
   "cell_type": "markdown",
   "metadata": {},
   "source": [
    "##### Functions"
   ]
  },
  {
   "cell_type": "code",
   "execution_count": null,
   "metadata": {},
   "outputs": [],
   "source": [
    "# Functions to upload images from Pexels.com\n",
    "\n",
    "def decode_image(filename, image_type, resize_shape, channels):\n",
    "    value = tf.io.read_file(filename)\n",
    "    if image_type == 'png':\n",
    "        decoded_image = tf.image.decode_png(value, channels=channels)\n",
    "    elif image_type == 'jpeg':\n",
    "        decoded_image = tf.image.decode_jpeg(value, channels=channels)\n",
    "    else:\n",
    "        decoded_image = tf.image.decode_image(value, channels=channels)\n",
    "    \n",
    "    if resize_shape is not None and image_type in ['png', 'jpeg']:\n",
    "        decoded_image = tf.image.resize(decoded_image, resize_shape)\n",
    "    \n",
    "    return decoded_image\n",
    "\n",
    "def get_dataset(image_paths, image_type, resize_shape, channels):\n",
    "    filename_tensor = tf.constant(image_paths)\n",
    "    dataset = tf.data.Dataset.from_tensor_slices(filename_tensor)\n",
    "    \n",
    "    def _map_fn(filename):\n",
    "        decode_images = decode_image(filename, image_type, resize_shape, channels=channels)\n",
    "        return decode_images\n",
    "    \n",
    "    map_dataset = dataset.map(_map_fn) # we use the map method: allow to apply the function _map_fn to all the \n",
    "    # elements of dataset \n",
    "    return map_dataset\n",
    "\n",
    "def get_image_data(image_paths, image_type, resize_shape, channels):\n",
    "    dataset = get_dataset(image_paths, image_type, resize_shape, channels)\n",
    "    iterator = tf.compat.v1.data.make_one_shot_iterator(dataset)\n",
    "    next_image = iterator.get_next()\n",
    "    \n",
    "    return next_image\n"
   ]
  },
  {
   "attachments": {},
   "cell_type": "markdown",
   "metadata": {},
   "source": [
    "##### Scrape images from website \"Pexels\""
   ]
  },
  {
   "cell_type": "code",
   "execution_count": null,
   "metadata": {},
   "outputs": [],
   "source": [
    "\n",
    "load_dotenv()\n",
    "\n",
    "# Upload your API keys\n",
    "api_key=os.getenv(\"API_KEY\")\n",
    "\n",
    "PAGE_LIMIT = 200\n",
    "RESULTS_PER_PAGE = 1\n",
    "\n",
    "PEXELS_API_KEY = api_key\n",
    "api = API(PEXELS_API_KEY)\n",
    "state='dirty'\n",
    "query =\"litters greasy sticky kitchen\"  # search query\n",
    "photos_dict = {}\n",
    "page = 1\n",
    "counter = 0\n",
    "\n",
    "# Step 1: Getting urls and meta information\n",
    "while page < PAGE_LIMIT:\n",
    "    if page%50==0:\n",
    "        time.sleep(30)\n",
    "    api.search(query, page=page, results_per_page=RESULTS_PER_PAGE)\n",
    "    photos = api.get_entries()\n",
    "    for photo in tqdm.tqdm(photos):\n",
    "        photos_dict[photo.id] = vars(photo)['_Photo__photo']\n",
    "        counter += 1\n",
    "        if not api.has_next_page:\n",
    "            break\n",
    "        page += 1\n",
    "\n",
    "print(f\"Finishing at page: {page}\")\n",
    "print(f\"Images were processed: {counter}\")"
   ]
  },
  {
   "cell_type": "code",
   "execution_count": 210,
   "metadata": {},
   "outputs": [
    {
     "name": "stderr",
     "output_type": "stream",
     "text": [
      "100%|██████████| 121/121 [10:09<00:00,  5.04s/it]\n"
     ]
    }
   ],
   "source": [
    "# Step 2: Downloading\n",
    "PATH = './'\n",
    "RESOLUTION = 'original'\n",
    "image_files=np.array([])\n",
    "k=0\n",
    "\n",
    "if photos_dict:\n",
    "    os.makedirs(PATH, exist_ok=True)\n",
    "    \n",
    "    # Saving dict\n",
    "    with open(os.path.join(PATH, f'{query}.json'), 'w') as fout:\n",
    "        json.dump(photos_dict, fout)\n",
    "    \n",
    "    for val in tqdm.tqdm(photos_dict.values()):\n",
    "        url = val['src'][RESOLUTION]\n",
    "        fname = os.path.basename(val['src']['original'])\n",
    "        image_path = os.path.join(PATH, fname)\n",
    "        if not os.path.isfile(image_path):\n",
    "            response = requests.get(url, stream=True)\n",
    "            with open(image_path, 'wb') as outfile:\n",
    "                outfile.write(response.content)\n",
    "                image_file=get_image_data([fname],'jpg',0,0)\n",
    "                "
   ]
  },
  {
   "attachments": {},
   "cell_type": "markdown",
   "metadata": {},
   "source": [
    "\n",
    "### Change data type from HEIC to JPEG"
   ]
  },
  {
   "attachments": {},
   "cell_type": "markdown",
   "metadata": {},
   "source": [
    "Used after downloading pics from iPhone"
   ]
  },
  {
   "cell_type": "code",
   "execution_count": null,
   "metadata": {},
   "outputs": [],
   "source": [
    "SourceFolder=\"clean\"\n",
    "TargetFolder=\"clean\"\n",
    "\n",
    "for file in os.listdir(SourceFolder):\n",
    "    if file != '.DS_Store':\n",
    "        heif_file = pillow_heif.read_heif(\"./\"+SourceFolder+\"/\"+file)\n",
    "        image = Image.frombytes(\n",
    "            heif_file.mode,\n",
    "            heif_file.size,\n",
    "            heif_file.data,\n",
    "            \"raw\",\n",
    "        )\n",
    "        file_name=file.rsplit('.',1)[0]\n",
    "        image.save(\"clean1/\"+file_name+\".jpeg\", format=\"jpeg\")"
   ]
  },
  {
   "attachments": {},
   "cell_type": "markdown",
   "metadata": {},
   "source": [
    "Make sure you have the same number of classes in the training and in the testing datasets"
   ]
  },
  {
   "cell_type": "code",
   "execution_count": 6,
   "metadata": {},
   "outputs": [
    {
     "name": "stdout",
     "output_type": "stream",
     "text": [
      "281\n",
      "281\n",
      "21\n",
      "21\n"
     ]
    }
   ],
   "source": [
    "print(len(os.listdir('./data/train/dirty')))\n",
    "print(len(os.listdir('./data/train/clean')))\n",
    "print(len(os.listdir('./data/test/dirty')))\n",
    "print(len(os.listdir('./data/test/clean')))"
   ]
  },
  {
   "attachments": {},
   "cell_type": "markdown",
   "metadata": {},
   "source": [
    "Upload and decode images for neural networks"
   ]
  },
  {
   "cell_type": "code",
   "execution_count": 28,
   "metadata": {},
   "outputs": [
    {
     "name": "stdout",
     "output_type": "stream",
     "text": [
      "Found 560 files belonging to 2 classes.\n",
      "Found 40 files belonging to 2 classes.\n"
     ]
    }
   ],
   "source": [
    "import tensorflow as tf\n",
    "train_df=tf.keras.utils.image_dataset_from_directory('data/train', image_size=(180,180), batch_size=32)\n",
    "test_df=tf.keras.utils.image_dataset_from_directory('data/test', image_size=(180,180), batch_size=32)"
   ]
  },
  {
   "attachments": {},
   "cell_type": "markdown",
   "metadata": {},
   "source": [
    "Define names and number of classes"
   ]
  },
  {
   "cell_type": "code",
   "execution_count": 29,
   "metadata": {},
   "outputs": [],
   "source": [
    "class_names = train_df.class_names\n",
    "num_classes=len(class_names)"
   ]
  },
  {
   "attachments": {},
   "cell_type": "markdown",
   "metadata": {},
   "source": [
    "Neural network model"
   ]
  },
  {
   "cell_type": "code",
   "execution_count": 58,
   "metadata": {},
   "outputs": [],
   "source": [
    "import keras\n",
    "from keras.models import Sequential\n",
    "from keras.layers import Dense, Conv2D , MaxPool2D , Flatten , Dropout\n",
    "from keras.preprocessing.image import ImageDataGenerator\n",
    "from keras.optimizers import Adam\n",
    "\n",
    "model  = tf.keras.Sequential([\n",
    "    tf.keras.layers.Rescaling(1./255),\n",
    "    tf.keras.layers.Conv2D(16, 3, padding='same', activation='relu'),\n",
    "    tf.keras.layers.MaxPooling2D(),\n",
    "    tf.keras.layers.Conv2D(32, 3, padding='same', activation='relu'),\n",
    "    tf.keras.layers.MaxPooling2D(),\n",
    "    tf.keras.layers.Conv2D(64, 3, padding='same', activation='relu'),\n",
    "    tf.keras.layers.MaxPooling2D(),\n",
    "    tf.keras.layers.Dropout(0.2),\n",
    "    tf.keras.layers.Flatten(),\n",
    "    tf.keras.layers.Dense(128, activation='relu'),\n",
    "    tf.keras.layers.Dense(num_classes)\n",
    "])\n",
    "model.compile(optimizer=Adam(), loss = tf.keras.losses.SparseCategoricalCrossentropy(from_logits=True), metrics = ['accuracy']) #optimizer = opt, 'binary_crossentropy'\n"
   ]
  },
  {
   "cell_type": "code",
   "execution_count": 59,
   "metadata": {},
   "outputs": [
    {
     "name": "stdout",
     "output_type": "stream",
     "text": [
      "Epoch 1/10\n"
     ]
    },
    {
     "name": "stderr",
     "output_type": "stream",
     "text": [
      "2023-01-11 11:57:28.996971: I tensorflow/core/kernels/data/shuffle_dataset_op.cc:390] Filling up shuffle buffer (this may take a while): 121 of 256\n",
      "2023-01-11 11:57:39.214995: I tensorflow/core/kernels/data/shuffle_dataset_op.cc:390] Filling up shuffle buffer (this may take a while): 229 of 256\n",
      "2023-01-11 11:57:41.720252: I tensorflow/core/kernels/data/shuffle_dataset_op.cc:415] Shuffle buffer filled.\n"
     ]
    },
    {
     "name": "stdout",
     "output_type": "stream",
     "text": [
      "18/18 [==============================] - 57s 2s/step - loss: 0.8976 - accuracy: 0.5393 - val_loss: 0.6908 - val_accuracy: 0.5000\n",
      "Epoch 2/10\n"
     ]
    },
    {
     "name": "stderr",
     "output_type": "stream",
     "text": [
      "2023-01-11 11:58:24.959500: I tensorflow/core/kernels/data/shuffle_dataset_op.cc:390] Filling up shuffle buffer (this may take a while): 157 of 256\n",
      "2023-01-11 11:58:31.111998: I tensorflow/core/kernels/data/shuffle_dataset_op.cc:415] Shuffle buffer filled.\n"
     ]
    },
    {
     "name": "stdout",
     "output_type": "stream",
     "text": [
      "18/18 [==============================] - 53s 2s/step - loss: 0.6892 - accuracy: 0.5393 - val_loss: 0.6842 - val_accuracy: 0.5000\n",
      "Epoch 3/10\n"
     ]
    },
    {
     "name": "stderr",
     "output_type": "stream",
     "text": [
      "2023-01-11 11:59:18.307685: I tensorflow/core/kernels/data/shuffle_dataset_op.cc:390] Filling up shuffle buffer (this may take a while): 145 of 256\n",
      "2023-01-11 11:59:27.631525: I tensorflow/core/kernels/data/shuffle_dataset_op.cc:415] Shuffle buffer filled.\n"
     ]
    },
    {
     "name": "stdout",
     "output_type": "stream",
     "text": [
      "18/18 [==============================] - 56s 2s/step - loss: 0.6710 - accuracy: 0.6143 - val_loss: 0.6636 - val_accuracy: 0.6250\n",
      "Epoch 4/10\n"
     ]
    },
    {
     "name": "stderr",
     "output_type": "stream",
     "text": [
      "2023-01-11 12:00:14.346489: I tensorflow/core/kernels/data/shuffle_dataset_op.cc:390] Filling up shuffle buffer (this may take a while): 165 of 256\n",
      "2023-01-11 12:00:19.983836: I tensorflow/core/kernels/data/shuffle_dataset_op.cc:415] Shuffle buffer filled.\n"
     ]
    },
    {
     "name": "stdout",
     "output_type": "stream",
     "text": [
      "18/18 [==============================] - 51s 2s/step - loss: 0.6246 - accuracy: 0.6679 - val_loss: 0.6476 - val_accuracy: 0.5500\n",
      "Epoch 5/10\n"
     ]
    },
    {
     "name": "stderr",
     "output_type": "stream",
     "text": [
      "2023-01-11 12:01:05.541052: I tensorflow/core/kernels/data/shuffle_dataset_op.cc:390] Filling up shuffle buffer (this may take a while): 149 of 256\n",
      "2023-01-11 12:01:12.730578: I tensorflow/core/kernels/data/shuffle_dataset_op.cc:415] Shuffle buffer filled.\n"
     ]
    },
    {
     "name": "stdout",
     "output_type": "stream",
     "text": [
      "18/18 [==============================] - 52s 2s/step - loss: 0.5292 - accuracy: 0.7446 - val_loss: 0.4672 - val_accuracy: 0.8500\n",
      "Epoch 6/10\n"
     ]
    },
    {
     "name": "stderr",
     "output_type": "stream",
     "text": [
      "2023-01-11 12:01:57.805139: I tensorflow/core/kernels/data/shuffle_dataset_op.cc:390] Filling up shuffle buffer (this may take a while): 125 of 256\n",
      "2023-01-11 12:02:07.634752: I tensorflow/core/kernels/data/shuffle_dataset_op.cc:390] Filling up shuffle buffer (this may take a while): 246 of 256\n",
      "2023-01-11 12:02:08.242249: I tensorflow/core/kernels/data/shuffle_dataset_op.cc:415] Shuffle buffer filled.\n"
     ]
    },
    {
     "name": "stdout",
     "output_type": "stream",
     "text": [
      "18/18 [==============================] - 56s 2s/step - loss: 0.4158 - accuracy: 0.8089 - val_loss: 0.4300 - val_accuracy: 0.7000\n",
      "Epoch 7/10\n"
     ]
    },
    {
     "name": "stderr",
     "output_type": "stream",
     "text": [
      "2023-01-11 12:02:53.305268: I tensorflow/core/kernels/data/shuffle_dataset_op.cc:390] Filling up shuffle buffer (this may take a while): 146 of 256\n",
      "2023-01-11 12:03:00.905196: I tensorflow/core/kernels/data/shuffle_dataset_op.cc:415] Shuffle buffer filled.\n"
     ]
    },
    {
     "name": "stdout",
     "output_type": "stream",
     "text": [
      "18/18 [==============================] - 54s 2s/step - loss: 0.4144 - accuracy: 0.7982 - val_loss: 0.5460 - val_accuracy: 0.6750\n",
      "Epoch 8/10\n"
     ]
    },
    {
     "name": "stderr",
     "output_type": "stream",
     "text": [
      "2023-01-11 12:03:47.147817: I tensorflow/core/kernels/data/shuffle_dataset_op.cc:390] Filling up shuffle buffer (this may take a while): 145 of 256\n",
      "2023-01-11 12:03:54.644089: I tensorflow/core/kernels/data/shuffle_dataset_op.cc:415] Shuffle buffer filled.\n"
     ]
    },
    {
     "name": "stdout",
     "output_type": "stream",
     "text": [
      "18/18 [==============================] - 52s 2s/step - loss: 0.3591 - accuracy: 0.8321 - val_loss: 0.3733 - val_accuracy: 0.8500\n",
      "Epoch 9/10\n"
     ]
    },
    {
     "name": "stderr",
     "output_type": "stream",
     "text": [
      "2023-01-11 12:04:39.483792: I tensorflow/core/kernels/data/shuffle_dataset_op.cc:390] Filling up shuffle buffer (this may take a while): 145 of 256\n",
      "2023-01-11 12:04:47.140320: I tensorflow/core/kernels/data/shuffle_dataset_op.cc:415] Shuffle buffer filled.\n"
     ]
    },
    {
     "name": "stdout",
     "output_type": "stream",
     "text": [
      "18/18 [==============================] - 53s 2s/step - loss: 0.2727 - accuracy: 0.9018 - val_loss: 0.4016 - val_accuracy: 0.8000\n",
      "Epoch 10/10\n"
     ]
    },
    {
     "name": "stderr",
     "output_type": "stream",
     "text": [
      "2023-01-11 12:05:32.670340: I tensorflow/core/kernels/data/shuffle_dataset_op.cc:390] Filling up shuffle buffer (this may take a while): 145 of 256\n",
      "2023-01-11 12:05:40.093247: I tensorflow/core/kernels/data/shuffle_dataset_op.cc:415] Shuffle buffer filled.\n"
     ]
    },
    {
     "name": "stdout",
     "output_type": "stream",
     "text": [
      "18/18 [==============================] - 53s 2s/step - loss: 0.1774 - accuracy: 0.9518 - val_loss: 0.4886 - val_accuracy: 0.7750\n"
     ]
    }
   ],
   "source": [
    "history = model.fit(train_df, epochs = 10, batch_size=32, validation_data = test_df)"
   ]
  },
  {
   "attachments": {},
   "cell_type": "markdown",
   "metadata": {},
   "source": [
    "#### Model evaluation"
   ]
  },
  {
   "cell_type": "code",
   "execution_count": 60,
   "metadata": {},
   "outputs": [
    {
     "name": "stdout",
     "output_type": "stream",
     "text": [
      "The history saving thread hit an unexpected error (OperationalError('unable to open database file')).History will not be written to the database.\n"
     ]
    },
    {
     "data": {
      "image/png": "[encoded data removed]",
      "text/plain": [
       "<Figure size 648x360 with 1 Axes>"
      ]
     },
     "metadata": {
      "needs_background": "light"
     },
     "output_type": "display_data"
    },
    {
     "data": {
      "image/png": "[encoded data removed]",
      "text/plain": [
       "<Figure size 648x360 with 1 Axes>"
      ]
     },
     "metadata": {
      "needs_background": "light"
     },
     "output_type": "display_data"
    }
   ],
   "source": [
    "# Evaluate the accuracy and the loss function of the model\n",
    "\n",
    "from matplotlib import pyplot as plt\n",
    "def learning_curve(history, metrics):\n",
    "  epochs = range(len(history.history[metrics]))\n",
    "\n",
    "  plt.figure(figsize=(9, 5))\n",
    "  plt.plot(epochs, history.history[metrics], \"b-\", label=f\"Training {metrics}\")\n",
    "  plt.plot(epochs, history.history[\"val_\" + metrics], \"b--\", label=f\"Testing {metrics}\")\n",
    "  plt.xlabel(\"Epoch\")\n",
    "  plt.ylabel(f\"{metrics}\")\n",
    "  plt.title(f\"Training vs Testing {metrics}\")\n",
    "  plt.legend()\n",
    "  plt.show()\n",
    "\n",
    "learning_curve(history,'accuracy')\n",
    "learning_curve(history,'loss')\n"
   ]
  },
  {
   "attachments": {},
   "cell_type": "markdown",
   "metadata": {},
   "source": [
    "#### Prediction"
   ]
  },
  {
   "attachments": {},
   "cell_type": "markdown",
   "metadata": {},
   "source": [
    "##### Save and load the model"
   ]
  },
  {
   "cell_type": "code",
   "execution_count": 67,
   "metadata": {},
   "outputs": [],
   "source": [
    "#Save the model\n",
    "\n",
    "from pathlib import Path\n",
    "file_path=Path('image_model.h5')\n",
    "model.save(file_path)\n",
    "\n",
    "#Load the model\n",
    "\n",
    "# import tensorflow as tf\n",
    "# file_path=Path('image_model.h5')\n",
    "# model_load=tf.keras.models.load_model(file_path)"
   ]
  },
  {
   "attachments": {},
   "cell_type": "markdown",
   "metadata": {},
   "source": [
    "##### Image Data Generator"
   ]
  },
  {
   "cell_type": "code",
   "execution_count": 63,
   "metadata": {},
   "outputs": [],
   "source": [
    "def load_and_prep_image(filename, img_shape=180, scale=True):\n",
    "  # Read in the image\n",
    "  img = tf.io.read_file(filename)\n",
    "  # Decode it into a tensor\n",
    "  img = tf.io.decode_image(img)\n",
    "  # Resize the image\n",
    "  img = tf.image.resize(img, [img_shape, img_shape])\n",
    "  if scale:\n",
    "    # Rescale the image (get all values between 0 and 1)\n",
    "    return img/255\n",
    "  else:\n",
    "    return img"
   ]
  },
  {
   "attachments": {},
   "cell_type": "markdown",
   "metadata": {},
   "source": [
    "#### Prediction"
   ]
  },
  {
   "cell_type": "code",
   "execution_count": 69,
   "metadata": {},
   "outputs": [
    {
     "name": "stdout",
     "output_type": "stream",
     "text": [
      "1/1 [==============================] - 0s 176ms/step\n",
      "This image most likely belongs to clean with a 99.80 percent confidence.\n"
     ]
    }
   ],
   "source": [
    "import random\n",
    "class_name='clean'\n",
    "filename = random.choice(os.listdir(\"data/train/\" + class_name))\n",
    "filepath = \"data/train/\" + class_name+\"/\" + filename\n",
    "\n",
    "img = tf.keras.utils.load_img(\n",
    "    filepath, target_size=(180, 180)\n",
    ")\n",
    "img_array = tf.keras.utils.img_to_array(img)\n",
    "img_array = tf.expand_dims(img_array, 0) # Create a batch\n",
    "\n",
    "predictions = model.predict(img_array)\n",
    "score = tf.nn.softmax(predictions[0])\n",
    "\n",
    "print(\n",
    "    \"This image most likely belongs to {} with a {:.2f} percent confidence.\"\n",
    "    .format(class_names[np.argmax(score)], 100 * np.max(score))\n",
    ")\n"
   ]
  }
 ],
 "metadata": {
  "kernelspec": {
   "display_name": "myenv",
   "language": "python",
   "name": "python3"
  },
  "language_info": {
   "codemirror_mode": {
    "name": "ipython",
    "version": 3
   },
   "file_extension": ".py",
   "mimetype": "text/x-python",
   "name": "python",
   "nbconvert_exporter": "python",
   "pygments_lexer": "ipython3",
   "version": "3.10.5 (main, Jul  9 2022, 13:41:20) [Clang 13.1.6 (clang-1316.0.21.2.5)]"
  },
  "orig_nbformat": 4,
  "vscode": {
   "interpreter": {
    "hash": "024276540305e579badb0706be1e2bc23d4785372e8fb3a00f3945cae93e712f"
   }
  }
 },
 "nbformat": 4,
 "nbformat_minor": 2
}
